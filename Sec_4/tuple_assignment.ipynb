{
 "cells": [
  {
   "cell_type": "markdown",
   "id": "6cade624",
   "metadata": {},
   "source": [
    "# Module 3: Data Structures Assignments\n",
    "## Lesson 3.2: Tuples\n",
    "### Assignment 1: Creating and Accessing Tuples\n",
    "\n",
    "Create a tuple with the first 10 positive integers. Print the tuple.\n",
    "\n",
    "### Assignment 2: Accessing Tuple Elements\n",
    "\n",
    "Print the first, middle, and last elements of the tuple created in Assignment 1.\n",
    "\n",
    "### Assignment 3: Tuple Slicing\n",
    "\n",
    "Print the first three elements, the last three elements, and the elements from index 2 to 5 of the tuple created in Assignment 1.\n",
    "\n",
    "### Assignment 4: Nested Tuples\n",
    "\n",
    "Create a nested tuple representing a 3x3 matrix and print the matrix. Access and print the element at the second row and third column.\n",
    "\n",
    "### Assignment 5: Tuple Concatenation\n",
    "\n",
    "Concatenate two tuples: (1, 2, 3) and (4, 5, 6). Print the resulting tuple.\n",
    "\n",
    "### Assignment 6: Tuple Methods\n",
    "\n",
    "Create a tuple with duplicate elements and count the occurrences of an element. Find the index of the first occurrence of an element in the tuple.\n",
    "\n",
    "### Assignment 7: Unpacking Tuples\n",
    "\n",
    "Create a tuple with 5 elements and unpack it into 5 variables. Print the variables.\n",
    "\n",
    "### Assignment 8: Tuple Conversion\n",
    "\n",
    "Convert a list of the first 5 positive integers to a tuple. Print the tuple.\n",
    "\n",
    "### Assignment 9: Tuple of Tuples\n",
    "\n",
    "Create a tuple containing 3 tuples, each with 3 elements. Print the tuple of tuples.\n",
    "\n",
    "### Assignment 10: Tuple and List\n",
    "\n",
    "Create a tuple with the first 5 positive integers. Convert it to a list, append the number 6, and convert it back to a tuple. Print the resulting tuple.\n",
    "\n",
    "### Assignment 11: Tuple and String\n",
    "\n",
    "Create a tuple with the characters of a string. Join the tuple elements into a single string. Print the string.\n",
    "\n",
    "### Assignment 12: Tuple and Dictionary\n",
    "\n",
    "Create a dictionary with tuple keys and integer values. Print the dictionary.\n",
    "\n",
    "### Assignment 13: Nested Tuple Iteration\n",
    "\n",
    "Create a nested tuple and iterate over the elements, printing each element.\n",
    "\n",
    "### Assignment 14: Tuple and Set\n",
    "\n",
    "Create a tuple with duplicate elements. Convert it to a set to remove duplicates and print the resulting set.\n",
    "\n",
    "### Assignment 15: Tuple Functions\n",
    "\n",
    "Write functions that take a tuple and return the minimum, maximum, and sum of the elements. Print the results for a sample tuple."
   ]
  },
  {
   "cell_type": "code",
   "execution_count": 1,
   "id": "1fd7dd81",
   "metadata": {},
   "outputs": [
    {
     "name": "stdout",
     "output_type": "stream",
     "text": [
      "(1, 2, 3, 4, 5, 6, 7, 8, 9, 10)\n",
      "<class 'tuple'>\n"
     ]
    }
   ],
   "source": [
    "# Create a tuple with the first 10 positive integers. Print the tuple.\n",
    "tup_1 = (1,2,3,4,5,6,7,8,9,10)\n",
    "print(tup_1)\n",
    "print(type(tup_1))"
   ]
  },
  {
   "cell_type": "code",
   "execution_count": 2,
   "id": "758494c6",
   "metadata": {},
   "outputs": [
    {
     "name": "stdout",
     "output_type": "stream",
     "text": [
      "1 6 10\n"
     ]
    }
   ],
   "source": [
    "# Print the first, middle, and last elements of the tuple created in Assignment 1.\n",
    "first = tup_1[0]\n",
    "middle = tup_1[len(tup_1)//2]\n",
    "last = tup_1[-1]\n",
    "print(first,middle,last)"
   ]
  },
  {
   "cell_type": "code",
   "execution_count": 4,
   "id": "fa651e06",
   "metadata": {},
   "outputs": [
    {
     "name": "stdout",
     "output_type": "stream",
     "text": [
      "(1, 2, 3)\n",
      "(8, 9, 10)\n",
      "(3, 4, 5)\n"
     ]
    }
   ],
   "source": [
    "# Print the first three elements, the last three elements, and the elements from index 2 to 5 of the tuple created in Assignment 1.\n",
    "print(tup_1[:3])\n",
    "print(tup_1[-3:])\n",
    "print(tup_1[2:5])"
   ]
  },
  {
   "cell_type": "code",
   "execution_count": 24,
   "id": "0d5cefeb",
   "metadata": {},
   "outputs": [
    {
     "name": "stdout",
     "output_type": "stream",
     "text": [
      "6\n"
     ]
    }
   ],
   "source": [
    "# Create a nested tuple representing a 3x3 matrix and print the matrix. Access and print the element at the second row and third column.\n",
    "tup_mat = ((1,2,3),\n",
    "           (4,5,6),\n",
    "           (7,8,9))\n",
    "print(tup_mat[1][2])\n"
   ]
  },
  {
   "cell_type": "code",
   "execution_count": 5,
   "id": "38f3ca83",
   "metadata": {},
   "outputs": [
    {
     "name": "stdout",
     "output_type": "stream",
     "text": [
      "(1, 2, 3, 4, 5, 6)\n"
     ]
    }
   ],
   "source": [
    "# Concatenate two tuples: (1, 2, 3) and (4, 5, 6). Print the resulting tuple.\n",
    "t1 = (1, 2, 3)\n",
    "t2 = (4, 5, 6)\n",
    "mer_t = t1 + t2\n",
    "print(mer_t)"
   ]
  },
  {
   "cell_type": "code",
   "execution_count": 6,
   "id": "cfded59b",
   "metadata": {},
   "outputs": [
    {
     "name": "stdout",
     "output_type": "stream",
     "text": [
      "4\n"
     ]
    }
   ],
   "source": [
    "# Create a tuple with duplicate elements and count the occurrences of an element. Find the index of the first occurrence of an element in the tuple.\n",
    "tup_dup = (4,5,6,7,7,7,3,2,1,9,7)\n",
    "print(tup_dup.count(7))"
   ]
  },
  {
   "cell_type": "code",
   "execution_count": 7,
   "id": "b4156173",
   "metadata": {},
   "outputs": [
    {
     "name": "stdout",
     "output_type": "stream",
     "text": [
      "1 2 3 4 5\n"
     ]
    }
   ],
   "source": [
    "# Create a tuple with 5 elements and unpack it into 5 variables. Print the variables.\n",
    "packed_tuples = (1,2,3,4,5)\n",
    "a,b,c,d,e = packed_tuples\n",
    "print(a,b,c,d,e)"
   ]
  },
  {
   "cell_type": "code",
   "execution_count": 8,
   "id": "08fd6814",
   "metadata": {},
   "outputs": [
    {
     "name": "stdout",
     "output_type": "stream",
     "text": [
      "(0, 1, 2, 3, 4)\n",
      "<class 'tuple'>\n"
     ]
    }
   ],
   "source": [
    "# Convert a list of the first 5 positive integers to a tuple. Print the tuple.\n",
    "lst = [0,1,2,3,4]\n",
    "con_tup = tuple(lst)\n",
    "print(con_tup)\n",
    "print(type(con_tup))"
   ]
  },
  {
   "cell_type": "code",
   "execution_count": 11,
   "id": "6f94296a",
   "metadata": {},
   "outputs": [
    {
     "name": "stdout",
     "output_type": "stream",
     "text": [
      "(1, 2, 3)\n",
      "(4, 5, 6)\n",
      "(7, 8, 9)\n"
     ]
    }
   ],
   "source": [
    "# Create a tuple containing 3 tuples, each with 3 elements. Print the tuple of tuples.\n",
    "tup_3 = ((1,2,3),(4,5,6),(7,8,9))\n",
    "for i in tup_3:\n",
    "    print(i)"
   ]
  },
  {
   "cell_type": "code",
   "execution_count": 18,
   "id": "fac6518f",
   "metadata": {},
   "outputs": [
    {
     "name": "stdout",
     "output_type": "stream",
     "text": [
      "(1, 2, 3, 4, 5) <class 'tuple'>\n",
      "<class 'list'>\n",
      "[1, 2, 3, 4, 5, 6]\n",
      "(1, 2, 3, 4, 5, 6) <class 'tuple'>\n"
     ]
    }
   ],
   "source": [
    "# Create a tuple with the first 5 positive integers. Convert it to a list, append the number 6, and convert it back to a tuple. Print the resulting tuple.\n",
    "tup_11 = (1,2,3,4,5)\n",
    "print(tup_11,type(tup_11))\n",
    "tup_11 = list(tup_11)\n",
    "print(type(tup_11))\n",
    "tup_11.append(6)\n",
    "print(tup_11)\n",
    "tup_11 = tuple(tup_11)\n",
    "\n",
    "print(tup_11,type(tup_11))"
   ]
  },
  {
   "cell_type": "code",
   "execution_count": 19,
   "id": "edd8a80d",
   "metadata": {},
   "outputs": [
    {
     "name": "stdout",
     "output_type": "stream",
     "text": [
      "Pranav\n"
     ]
    }
   ],
   "source": [
    "# Create a tuple with the characters of a string. Join the tuple elements into a single string. Print the string.\n",
    "tup_s = (\"P\",\"r\",\"a\",\"n\",\"a\",\"v\")\n",
    "st_tup = ''.join(tup_s)\n",
    "print(st_tup)"
   ]
  },
  {
   "cell_type": "code",
   "execution_count": 20,
   "id": "d54d119c",
   "metadata": {},
   "outputs": [
    {
     "name": "stdout",
     "output_type": "stream",
     "text": [
      "{('Pranav', 'Ghadge'): 11, ('Rohit', 'Chavan'): 111, ('Maddy', 'sk'): 1}\n"
     ]
    }
   ],
   "source": [
    "# Create a dictionary with tuple keys and integer values. Print the dictionary.\n",
    "dic_tup = {(\"Pranav\",\"Ghadge\"): 11,(\"Rohit\",\"Chavan\"):111,(\"Maddy\",\"sk\"):1}\n",
    "print(dic_tup)\n"
   ]
  },
  {
   "cell_type": "code",
   "execution_count": 26,
   "id": "dabca638",
   "metadata": {},
   "outputs": [
    {
     "name": "stdout",
     "output_type": "stream",
     "text": [
      "1\n",
      "2\n",
      "3\n",
      "4\n",
      "5\n",
      "6\n",
      "7\n",
      "8\n",
      "9\n"
     ]
    }
   ],
   "source": [
    "# Create a nested tuple and iterate over the elements, printing each element.\n",
    "tup_mat = ((1,2,3),\n",
    "           (4,5,6),\n",
    "           (7,8,9))\n",
    "for i in tup_mat:\n",
    "    for j in i:\n",
    "        print(j)\n"
   ]
  },
  {
   "cell_type": "code",
   "execution_count": 21,
   "id": "f48c285d",
   "metadata": {},
   "outputs": [
    {
     "name": "stdout",
     "output_type": "stream",
     "text": [
      "{1, 2, 3, 4, 5}\n"
     ]
    }
   ],
   "source": [
    "# Create a tuple with duplicate elements. Convert it to a set to remove duplicates and print the resulting set.\n",
    "tup_dup = (1,2,2,3,3,3,4,4,4,4,5,5,5,5,5)\n",
    "set_tup_dup = set(tup_dup)\n",
    "print(set_tup_dup)\n"
   ]
  },
  {
   "cell_type": "code",
   "execution_count": 22,
   "metadata": {},
   "outputs": [
    {
     "data": {
      "text/plain": [
       "(1, 10, 55)"
      ]
     },
     "execution_count": 22,
     "metadata": {},
     "output_type": "execute_result"
    }
   ],
   "source": [
    "# Write functions that take a tuple and return the minimum, maximum, and sum of the elements. Print the results for a sample tuple.\n",
    "def mms(sam_tup):\n",
    "    min_s = min(sam_tup)\n",
    "    max_s = max(sam_tup)\n",
    "    sum_s = sum(sam_tup)\n",
    "    return min_s,max_s,sum_s\n",
    "\n",
    "sam_tup = (1,2,3,4,5,6,7,8,9,10)\n",
    "mms(sam_tup)"
   ]
  },
  {
   "cell_type": "code",
   "execution_count": null,
   "id": "03208f5b",
   "metadata": {},
   "outputs": [],
   "source": []
  }
 ],
 "metadata": {
  "kernelspec": {
   "display_name": "venv",
   "language": "python",
   "name": "python3"
  },
  "language_info": {
   "codemirror_mode": {
    "name": "ipython",
    "version": 3
   },
   "file_extension": ".py",
   "mimetype": "text/x-python",
   "name": "python",
   "nbconvert_exporter": "python",
   "pygments_lexer": "ipython3",
   "version": "3.12.4"
  }
 },
 "nbformat": 4,
 "nbformat_minor": 5
}
