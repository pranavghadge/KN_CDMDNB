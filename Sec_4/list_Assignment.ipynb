{
 "cells": [
  {
   "cell_type": "markdown",
   "metadata": {},
   "source": [
    "# Module 3: Data Structures Assignments\n",
    "## Lesson 3.1: Lists\n",
    "### Assignment 1: Creating and Accessing Lists\n",
    "\n",
    "Create a list of the first 20 positive integers. Print the list.\n",
    "\n",
    "### Assignment 2: Accessing List Elements\n",
    "\n",
    "Print the first, middle, and last elements of the list created in Assignment 1.\n",
    "\n",
    "### Assignment 3: List Slicing\n",
    "\n",
    "Print the first five elements, the last five elements, and the elements from index 5 to 15 of the list created in Assignment 1.\n",
    "\n",
    "### Assignment 4: List Comprehensions\n",
    "\n",
    "Create a new list containing the squares of the first 10 positive integers using a list comprehension. Print the new list.\n",
    "\n",
    "### Assignment 5: Filtering Lists\n",
    "\n",
    "Create a new list containing only the even numbers from the list created in Assignment 1 using a list comprehension. Print the new list.\n",
    "\n",
    "### Assignment 6: List Methods\n",
    "\n",
    "Create a list of random numbers and sort it in ascending and descending order. Remove the duplicates from the list and print the modified list.\n",
    "\n",
    "### Assignment 7: Nested Lists\n",
    "\n",
    "Create a nested list representing a 3x3 matrix and print the matrix. Access and print the element at the second row and third column.\n",
    "\n",
    "### Assignment 8: List of Dictionaries\n",
    "\n",
    "Create a list of dictionaries where each dictionary represents a student with keys 'name' and 'score'. Sort the list of dictionaries by the 'score' in descending order and print the sorted list.\n",
    "\n",
    "### Assignment 9: Matrix Transposition\n",
    "\n",
    "Write a function that takes a 3x3 matrix (nested list) as input and returns its transpose. Print the original and transposed matrices.\n",
    "\n",
    "### Assignment 10: Flattening a Nested List\n",
    "\n",
    "Write a function that takes a nested list and flattens it into a single list. Print the original and flattened lists.\n",
    "\n",
    "### Assignment 11: List Manipulation\n",
    "\n",
    "Create a list of the first 10 positive integers. Remove the elements at indices 2, 4, and 6, and insert the element '99' at index 5. Print the modified list.\n",
    "\n",
    "### Assignment 12: List Zipping\n",
    "\n",
    "Create two lists of the same length. Use the `zip` function to combine these lists into a list of tuples and print the result.\n",
    "\n",
    "### Assignment 13: List Reversal\n",
    "\n",
    "Write a function that takes a list and returns a new list with the elements in reverse order. Print the original and reversed lists.\n",
    "\n",
    "### Assignment 14: List Rotation\n",
    "\n",
    "Write a function that rotates a list by n positions. Print the original and rotated lists.\n",
    "\n",
    "### Assignment 15: List Intersection\n",
    "\n",
    "Write a function that takes two lists and returns a new list containing only the elements that are present in both lists. Print the intersected list."
   ]
  },
  {
   "cell_type": "code",
   "execution_count": 1,
   "id": "e2ebcc7d",
   "metadata": {},
   "outputs": [
    {
     "name": "stdout",
     "output_type": "stream",
     "text": [
      "[1, 2, 3, 4, 5, 6, 7, 8, 9, 10, 11, 12, 13, 14, 15, 16, 17, 18, 19, 20]\n"
     ]
    }
   ],
   "source": [
    "# Create a list of the first 20 positive integers. Print the list.\n",
    "lst = []\n",
    "for i in range(1,21):\n",
    "    lst.append(i)\n",
    "print(lst)"
   ]
  },
  {
   "cell_type": "code",
   "execution_count": 4,
   "id": "c1eb7dcf",
   "metadata": {},
   "outputs": [
    {
     "name": "stdout",
     "output_type": "stream",
     "text": [
      "1 11 20\n"
     ]
    }
   ],
   "source": [
    "# Print the first, middle, and last elements of the list created in Assignment 1.\n",
    "first = lst[0]\n",
    "middle = lst[len(lst)//2]\n",
    "last = lst[-1]\n",
    "print(first,middle,last)"
   ]
  },
  {
   "cell_type": "code",
   "execution_count": 9,
   "id": "71297abf",
   "metadata": {},
   "outputs": [
    {
     "name": "stdout",
     "output_type": "stream",
     "text": [
      "[1, 2, 3, 4, 5] [16, 17, 18, 19, 20] [6, 7, 8, 9, 10, 11, 12, 13, 14, 15]\n"
     ]
    }
   ],
   "source": [
    "# Print the first five elements, the last five elements, and the elements from index 5 to 15 of the list created in Assignment 1.\n",
    "first_5 = lst[:5]\n",
    "last_5 = lst[-5:]\n",
    "ele_5_15 = lst[5:15]\n",
    "\n",
    "print(first_5,last_5,ele_5_15)"
   ]
  },
  {
   "cell_type": "code",
   "execution_count": 11,
   "metadata": {},
   "outputs": [
    {
     "name": "stdout",
     "output_type": "stream",
     "text": [
      "[1, 4, 9, 16, 25, 36, 49, 64, 81, 100]\n"
     ]
    }
   ],
   "source": [
    "# Create a new list containing the squares of the first 10 positive integers using a list comprehension. Print the new list.\n",
    "new_lst = [i**2 for i in range(1,11)]\n",
    "print(new_lst)\n"
   ]
  },
  {
   "cell_type": "code",
   "execution_count": 15,
   "id": "79b26519",
   "metadata": {},
   "outputs": [
    {
     "name": "stdout",
     "output_type": "stream",
     "text": [
      "[2, 4, 6, 8, 10, 12, 14, 16, 18, 20]\n"
     ]
    }
   ],
   "source": [
    "# Create a new list containing only the even numbers from the list created in Assignment 1 using a list comprehension. Print the new list.\n",
    "new_lst2 = [n for n in lst if n%2==0]\n",
    "print(new_lst2)"
   ]
  },
  {
   "cell_type": "code",
   "execution_count": 28,
   "id": "ed46a44b",
   "metadata": {},
   "outputs": [
    {
     "name": "stdout",
     "output_type": "stream",
     "text": [
      "[6, 4, 5, 1, 6, 6, 6, 3, 1, 3]\n",
      "[1, 1, 3, 3, 4, 5, 6, 6, 6, 6]\n",
      "[6, 6, 6, 6, 5, 4, 3, 3, 1, 1]\n",
      "[1, 3, 4, 5, 6]\n"
     ]
    }
   ],
   "source": [
    "# Create a list of random numbers and sort it in ascending and descending order. Remove the duplicates from the list and print the modified list.\n",
    "import random\n",
    "rand_lst = [random.randint(1, 10) for i in range(10)]\n",
    "print(rand_lst)\n",
    "asc_sort = sorted(rand_lst)\n",
    "print(asc_sort)\n",
    "desc_sort = sorted(rand_lst,reverse=True)\n",
    "print(desc_sort)\n",
    "rem_dup=list(set(rand_lst))\n",
    "print(rem_dup)\n"
   ]
  },
  {
   "cell_type": "code",
   "execution_count": 47,
   "id": "f50a0d43",
   "metadata": {},
   "outputs": [
    {
     "name": "stdout",
     "output_type": "stream",
     "text": [
      "[[2, 5, 1], [8, 7, 4], [7, 10, 4]]\n",
      "4\n"
     ]
    }
   ],
   "source": [
    "# Create a nested list representing a 3x3 matrix and print the matrix. Access and print the element at the second row and third column.\n",
    "mat_lst = [[random.randint(1, 10) for i in range(3)] for j in range(3)]\n",
    "print(mat_lst)\n",
    "acc_e = mat_lst[1][2]\n",
    "print(acc_e)\n"
   ]
  },
  {
   "cell_type": "code",
   "execution_count": null,
   "id": "69132c5f",
   "metadata": {},
   "outputs": [
    {
     "name": "stdout",
     "output_type": "stream",
     "text": [
      "[{'name': 'Pranav', 'score': 98}, {'name': 'Rohit', 'score': 89}, {'name': 'Maddy', 'score': 78}]\n",
      "Sorted Students by Score (Descending):\n",
      "{'name': 'Pranav', 'score': 98}\n",
      "{'name': 'Rohit', 'score': 89}\n",
      "{'name': 'Maddy', 'score': 78}\n"
     ]
    }
   ],
   "source": [
    "# Create a list of dictionaries where each dictionary represents a student with keys 'name' and 'score'. Sort the list of dictionaries by the 'score' \n",
    "# in descending order and print the sorted list.\n",
    "\n",
    "students = [{\"name\":\"Pranav\",\"score\":98},{\"name\":\"Rohit\",\"score\":89},{\"name\":\"Maddy\",\"score\":78}]\n",
    "print(students)\n",
    "sorted_students = sorted(students, key=lambda x: x[\"score\"], reverse=True)\n",
    "\n",
    "\"\"\" lambda x: x[\"score\"] is a lambda function, which is an anonymous function (a one-line function).\n",
    "    x represents each dictionary in the students list.\n",
    "    x[\"score\"] extracts the value of the \"score\" key from each dictionary.\"\"\"\n",
    "\n",
    "print(\"Sorted Students by Score (Descending):\")\n",
    "for student in sorted_students:\n",
    "    print(student)"
   ]
  },
  {
   "cell_type": "code",
   "execution_count": 56,
   "id": "d880f299",
   "metadata": {},
   "outputs": [
    {
     "name": "stdout",
     "output_type": "stream",
     "text": [
      "Enter the elements of a 3x3 matrix row by row:\n",
      "\n",
      "Original Matrix:\n",
      "[1, 2, 3]\n",
      "[4, 5, 6]\n",
      "[7, 8, 9]\n",
      "\n",
      "Transposed Matrix:\n",
      "[1, 4, 7]\n",
      "[2, 5, 8]\n",
      "[3, 6, 9]\n"
     ]
    }
   ],
   "source": [
    "# Write a function that takes a 3x3 matrix (nested list) as input and returns its transpose. Print the original and transposed matrices.\n",
    "def transpose_matrix(matrix):\n",
    "    \"\"\"Function to compute the transpose of a 3x3 matrix.\"\"\"\n",
    "    return [[matrix[j][i] for j in range(len(matrix))] for i in range(len(matrix[0]))]\n",
    "\n",
    "# Taking 3x3 matrix input from the user\n",
    "matrix = []\n",
    "print(\"Enter the elements of a 3x3 matrix row by row:\")\n",
    "\n",
    "for i in range(3):\n",
    "    row = list(map(int, input().split()))  # Taking space-separated input\n",
    "    matrix.append(row)\n",
    "\n",
    "# Get the transpose of the matrix\n",
    "transposed_matrix = transpose_matrix(matrix)\n",
    "\n",
    "# Printing the original matrix\n",
    "print(\"\\nOriginal Matrix:\")\n",
    "for row in matrix:\n",
    "    print(row)\n",
    "\n",
    "# Printing the transposed matrix\n",
    "print(\"\\nTransposed Matrix:\")\n",
    "for row in transposed_matrix:\n",
    "    print(row)\n"
   ]
  },
  {
   "cell_type": "code",
   "execution_count": 57,
   "id": "93b9c7aa",
   "metadata": {},
   "outputs": [
    {
     "name": "stdout",
     "output_type": "stream",
     "text": [
      "Original Nested List:\n",
      "[1, 2, 3]\n",
      "[4, 5, 6]\n",
      "[7, 8, 9]\n",
      "\n",
      "Flattened List:\n",
      "[1, 2, 3, 4, 5, 6, 7, 8, 9]\n"
     ]
    }
   ],
   "source": [
    "# Write a function that takes a nested list and flattens it into a single list. Print the original and flattened lists.\n",
    "def flatten_list(nested_list):\n",
    "    \"\"\"Function to flatten a nested list into a single list.\"\"\"\n",
    "    return [item for sublist in nested_list for item in sublist]\n",
    "\n",
    "# Define a nested list (list of lists)\n",
    "nested_list = [\n",
    "    [1, 2, 3],\n",
    "    [4, 5, 6],\n",
    "    [7, 8, 9]\n",
    "]\n",
    "\n",
    "# Get the flattened list\n",
    "flattened_list = flatten_list(nested_list)\n",
    "\n",
    "# Print the original nested list\n",
    "print(\"Original Nested List:\")\n",
    "for row in nested_list:\n",
    "    print(row)\n",
    "\n",
    "# Print the flattened list\n",
    "print(\"\\nFlattened List:\")\n",
    "print(flattened_list)\n"
   ]
  },
  {
   "cell_type": "code",
   "execution_count": 64,
   "id": "67b99f92",
   "metadata": {},
   "outputs": [
    {
     "name": "stdout",
     "output_type": "stream",
     "text": [
      "[1, 2, 3, 4, 5, 6, 7, 8, 9, 10]\n",
      "[1, 2, 4, 5, 7, 8, 10]\n",
      "[1, 2, 4, 5, 7, 99, 8, 10]\n"
     ]
    }
   ],
   "source": [
    "# Create a list of the first 10 positive integers. Remove the elements at indices 2, 4, and 6, and insert the element '99' at index 5. Print the modified list.\n",
    "lst_11 = [a for a in range(1,11)]\n",
    "print(lst_11)\n",
    "rm_lst = [2,4,6]\n",
    "for rm in rm_lst:\n",
    "    lst_11.pop(rm)\n",
    "print(lst_11)\n",
    "lst_11.insert(5,99)\n",
    "print(lst_11)\n"
   ]
  },
  {
   "cell_type": "code",
   "execution_count": 66,
   "id": "064ce3fb",
   "metadata": {},
   "outputs": [
    {
     "name": "stdout",
     "output_type": "stream",
     "text": [
      "[(1, 0), (2, 9), (3, 8), (4, 7), (5, 6), (6, 5), (7, 4), (8, 3), (9, 2), (0, 1)]\n"
     ]
    }
   ],
   "source": [
    "# Create two lists of the same length. Use the `zip` function to combine these lists into a list of tuples and print the result.\n",
    "lst_12 = [1,2,3,4,5,6,7,8,9,0]\n",
    "lst_13 = [0,9,8,7,6,5,4,3,2,1]\n",
    "final_lst = list(zip(lst_12, lst_13))\n",
    "print(final_lst)\n"
   ]
  },
  {
   "cell_type": "code",
   "execution_count": null,
   "id": "d0c7be6e",
   "metadata": {},
   "outputs": [
    {
     "name": "stdout",
     "output_type": "stream",
     "text": [
      "Original List: [0, 1, 2, 3, 4, 5, 6, 7, 8, 9]\n",
      "Reversed List: [9, 8, 7, 6, 5, 4, 3, 2, 1, 0]\n"
     ]
    }
   ],
   "source": [
    "def rev_list(og_list):\n",
    "    rev_lst = []  \n",
    "    for i in reversed(og_list):  \n",
    "        rev_lst.append(i)\n",
    "    return rev_lst \n",
    "\n",
    "# Original list\n",
    "og_list = [0, 1, 2, 3, 4, 5, 6, 7, 8, 9]\n",
    "print(\"Original List:\", og_list)\n",
    "\n",
    "# Get reversed list\n",
    "rev_og_list = rev_list(og_list)\n",
    "print(\"Reversed List:\", rev_og_list)\n"
   ]
  },
  {
   "cell_type": "code",
   "execution_count": 77,
   "id": "1e6220f1",
   "metadata": {},
   "outputs": [
    {
     "name": "stdout",
     "output_type": "stream",
     "text": [
      "Original List: [1, 2, 3, 4, 5, 6, 7, 8, 9]\n",
      "List Rotated by 3 Positions: [7, 8, 9, 1, 2, 3, 4, 5, 6]\n"
     ]
    }
   ],
   "source": [
    "# Write a function that rotates a list by n positions. Print the original and rotated lists.\n",
    "def rotate_list(lst, n):\n",
    "    \"\"\"Function to rotate a list by n positions.\"\"\"\n",
    "    n = n % len(lst)  # Handle cases where n is larger than the list size\n",
    "    return lst[-n:] + lst[:-n]  # Slicing method to rotate the list\n",
    "\n",
    "# Original list\n",
    "original_list = [1, 2, 3, 4, 5, 6, 7, 8, 9]\n",
    "\n",
    "# Rotate the list by n positions\n",
    "n = 3\n",
    "rotated_list = rotate_list(original_list, n)\n",
    "\n",
    "# Print results\n",
    "print(\"Original List:\", original_list)\n",
    "print(f\"List Rotated by {n} Positions:\", rotated_list)\n"
   ]
  },
  {
   "cell_type": "code",
   "execution_count": 78,
   "id": "8be1fb41",
   "metadata": {},
   "outputs": [
    {
     "name": "stdout",
     "output_type": "stream",
     "text": [
      "List 1: [1, 2, 3, 4, 5, 6, 7, 8, 9]\n",
      "List 2: [5, 6, 7, 10, 11, 12]\n",
      "Intersection of Lists: [5, 6, 7]\n"
     ]
    }
   ],
   "source": [
    "# Write a function that takes two lists and returns a new list containing only the elements that are present in both lists. Print the intersected list.\n",
    "def list_intersection(lst1, lst2):\n",
    "    \"\"\"Function to return common elements from two lists.\"\"\"\n",
    "    return list(set(lst1) & set(lst2))  # Using set intersection\n",
    "\n",
    "# Define two lists\n",
    "list1 = [1, 2, 3, 4, 5, 6, 7, 8, 9]\n",
    "list2 = [5, 6, 7, 10, 11, 12]\n",
    "\n",
    "# Get the intersection of both lists\n",
    "intersected_list = list_intersection(list1, list2)\n",
    "\n",
    "# Print results\n",
    "print(\"List 1:\", list1)\n",
    "print(\"List 2:\", list2)\n",
    "print(\"Intersection of Lists:\", intersected_list)\n",
    "\n"
   ]
  },
  {
   "cell_type": "code",
   "execution_count": null,
   "id": "13d31ca8",
   "metadata": {},
   "outputs": [],
   "source": []
  }
 ],
 "metadata": {
  "kernelspec": {
   "display_name": "Python 3",
   "language": "python",
   "name": "python3"
  },
  "language_info": {
   "codemirror_mode": {
    "name": "ipython",
    "version": 3
   },
   "file_extension": ".py",
   "mimetype": "text/x-python",
   "name": "python",
   "nbconvert_exporter": "python",
   "pygments_lexer": "ipython3",
   "version": "3.12.4"
  }
 },
 "nbformat": 4,
 "nbformat_minor": 5
}
