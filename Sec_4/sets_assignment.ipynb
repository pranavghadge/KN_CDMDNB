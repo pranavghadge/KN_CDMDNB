{
 "cells": [
  {
   "cell_type": "markdown",
   "metadata": {},
   "source": [
    "# Module 3: Data Structures Assignments\n",
    "## Lesson 3.3: Sets\n",
    "### Assignment 1: Creating and Accessing Sets\n",
    "\n",
    "Create a set with the first 10 positive integers. Print the set.\n",
    "\n",
    "### Assignment 2: Adding and Removing Elements\n",
    "\n",
    "Add the number 11 to the set created in Assignment 1. Then remove the number 1 from the set. Print the modified set.\n",
    "\n",
    "### Assignment 3: Set Operations\n",
    "\n",
    "Create two sets: one with the first 5 positive integers and another with the first 5 even integers. Perform and print the results of union, intersection, difference, and symmetric difference operations on these sets.\n",
    "\n",
    "### Assignment 4: Set Comprehensions\n",
    "\n",
    "Create a new set containing the squares of the first 10 positive integers using a set comprehension. Print the new set.\n",
    "\n",
    "### Assignment 5: Filtering Sets\n",
    "\n",
    "Create a new set containing only the even numbers from the set created in Assignment 1 using a set comprehension. Print the new set.\n",
    "\n",
    "### Assignment 6: Set Methods\n",
    "\n",
    "Create a set with duplicate elements and remove the duplicates using set methods. Print the modified set.\n",
    "\n",
    "### Assignment 7: Subsets and Supersets\n",
    "\n",
    "Create two sets: one with the first 5 positive integers and another with the first 3 positive integers. Check if the second set is a subset of the first set and if the first set is a superset of the second set. Print the results.\n",
    "\n",
    "### Assignment 8: Frozenset\n",
    "\n",
    "Create a frozenset with the first 5 positive integers. Print the frozenset.\n",
    "\n",
    "### Assignment 9: Set and List Conversion\n",
    "\n",
    "Create a set with the first 5 positive integers. Convert it to a list, append the number 6, and convert it back to a set. Print the resulting set.\n",
    "\n",
    "### Assignment 10: Set and Dictionary\n",
    "\n",
    "Create a dictionary with set keys and integer values. Print the dictionary.\n",
    "\n",
    "### Assignment 11: Iterating Over Sets\n",
    "\n",
    "Create a set and iterate over the elements, printing each element.\n",
    "\n",
    "### Assignment 12: Removing Elements from Sets\n",
    "\n",
    "Create a set and remove elements from it until it is empty. Print the set after each removal.\n",
    "\n",
    "### Assignment 13: Set Symmetric Difference Update\n",
    "\n",
    "Create two sets and update the first set with the symmetric difference of the two sets. Print the modified first set.\n",
    "\n",
    "### Assignment 14: Set Membership Testing\n",
    "\n",
    "Create a set and test if certain elements are present in the set. Print the results.\n",
    "\n",
    "### Assignment 15: Set of Tuples\n",
    "\n",
    "Create a set containing tuples, where each tuple contains two elements. Print the set."
   ]
  },
  {
   "cell_type": "code",
   "execution_count": 1,
   "id": "d53dd7d8",
   "metadata": {},
   "outputs": [
    {
     "name": "stdout",
     "output_type": "stream",
     "text": [
      "{1, 2, 3, 4, 5, 6, 7, 8, 9, 10} <class 'set'>\n"
     ]
    }
   ],
   "source": [
    "# Create a set with the first 10 positive integers. Print the set.\n",
    "set_1 = {1,2,3,4,5,6,7,8,9,10}\n",
    "print(set_1,type(set_1))"
   ]
  },
  {
   "cell_type": "code",
   "execution_count": 4,
   "id": "71eb8f01",
   "metadata": {},
   "outputs": [
    {
     "name": "stdout",
     "output_type": "stream",
     "text": [
      "{1, 2, 3, 4, 5, 6, 7, 8, 9, 10, 11}\n",
      "{2, 3, 4, 5, 6, 7, 8, 9, 10, 11}\n"
     ]
    }
   ],
   "source": [
    "# Add the number 11 to the set created in Assignment 1. Then remove the number 1 from the set. Print the modified set.\n",
    "set_1.add(11)\n",
    "print(set_1)\n",
    "set_1.remove(1)\n",
    "print(set_1)"
   ]
  },
  {
   "cell_type": "code",
   "execution_count": 8,
   "id": "31c1f0a3",
   "metadata": {},
   "outputs": [
    {
     "name": "stdout",
     "output_type": "stream",
     "text": [
      "Union:  {1, 2, 3, 4, 5, 6, 8, 10}\n",
      "Intersection:  {2, 4}\n",
      "Difference:  {1, 3, 5}\n",
      "Symmetric Difference:  {1, 3, 5, 6, 8, 10}\n"
     ]
    }
   ],
   "source": [
    "# Create two sets: one with the first 5 positive integers and another with the first 5 even integers. Perform and print the results of union,\n",
    "#  intersection, difference, and symmetric difference operations on these sets.\n",
    "set_2 = {1,2,3,4,5}\n",
    "set_3 = {2,4,6,8,10}\n",
    "print(\"Union: \",set_2.union(set_3))\n",
    "print(\"Intersection: \",set_2.intersection(set_3))\n",
    "print(\"Difference: \",set_2.difference(set_3))\n",
    "print(\"Symmetric Difference: \",set_2.symmetric_difference(set_3))"
   ]
  },
  {
   "cell_type": "code",
   "execution_count": 14,
   "id": "9d86fc8e",
   "metadata": {},
   "outputs": [
    {
     "name": "stdout",
     "output_type": "stream",
     "text": [
      "{64, 1, 4, 36, 100, 9, 16, 49, 81, 25} <class 'set'>\n"
     ]
    }
   ],
   "source": [
    "# Create a new set containing the squares of the first 10 positive integers using a set comprehension. Print the new set.\n",
    "set_4 = set([i**2 for i in range(1,11)])\n",
    "print(set_4,type(set_4))"
   ]
  },
  {
   "cell_type": "code",
   "execution_count": 16,
   "id": "45d6492b",
   "metadata": {},
   "outputs": [
    {
     "name": "stdout",
     "output_type": "stream",
     "text": [
      "{2, 4, 6, 8, 10}\n"
     ]
    }
   ],
   "source": [
    "# Create a new set containing only the even numbers from the set created in Assignment 1 using a set comprehension. Print the new set.\n",
    "set_e = set([i for i in set_1 if i%2 ==0])\n",
    "print(set_e)"
   ]
  },
  {
   "cell_type": "code",
   "execution_count": 17,
   "id": "84142674",
   "metadata": {},
   "outputs": [
    {
     "name": "stdout",
     "output_type": "stream",
     "text": [
      "{1, 2, 3, 4, 5}\n"
     ]
    }
   ],
   "source": [
    "# Create a set with duplicate elements and remove the duplicates using set methods. Print the modified set.\n",
    "set_dup = {1,2,2,3,3,3,4,4,4,4,5,5,5,5,5,}\n",
    "print(set_dup)"
   ]
  },
  {
   "cell_type": "code",
   "execution_count": 19,
   "id": "8b8090ce",
   "metadata": {},
   "outputs": [
    {
     "name": "stdout",
     "output_type": "stream",
     "text": [
      "True\n",
      "True\n"
     ]
    }
   ],
   "source": [
    "# Create two sets: one with the first 5 positive integers and another with the first 3 positive integers. Check if the second set is a subset\n",
    "#  of the first set and if the first set is a superset of the second set. Print the results.\n",
    "set_5 = {1,2,3,4,5}\n",
    "set_6 = {1,2,3}\n",
    "print(set_6.issubset(set_5))\n",
    "print(set_5.issuperset(set_6))"
   ]
  },
  {
   "cell_type": "code",
   "execution_count": 20,
   "id": "2aaa6f5a",
   "metadata": {},
   "outputs": [
    {
     "name": "stdout",
     "output_type": "stream",
     "text": [
      "frozenset({1, 2, 3, 4, 5})\n"
     ]
    }
   ],
   "source": [
    "# Create a frozenset with the first 5 positive integers. Print the frozenset.\n",
    "my_frozenset = frozenset([1,2,3,4,5])\n",
    "print(my_frozenset)"
   ]
  },
  {
   "cell_type": "code",
   "execution_count": 22,
   "id": "eb288f2e",
   "metadata": {},
   "outputs": [
    {
     "name": "stdout",
     "output_type": "stream",
     "text": [
      "{1, 2, 3, 4, 5, 6} <class 'set'>\n"
     ]
    }
   ],
   "source": [
    "# Create a set with the first 5 positive integers. Convert it to a list, append the number 6, and convert it back to a set. Print the resulting set.\n",
    "set_7 = {1,2,3,4,5}\n",
    "set_7 = list(set_7)\n",
    "set_7.append(6)\n",
    "set_7 = set(set_7)\n",
    "print(set_7,type(set_7))"
   ]
  },
  {
   "cell_type": "code",
   "execution_count": 42,
   "id": "8ff164f4",
   "metadata": {},
   "outputs": [
    {
     "name": "stdout",
     "output_type": "stream",
     "text": [
      "{frozenset({'Pranav', 'Ghadge'}): 1111, frozenset({'Rohit', 'Chavan'}): 111, frozenset({'sk', 'Maddy'}): 11}\n"
     ]
    }
   ],
   "source": [
    "# Create a dictionary with set keys and integer values. Print the dictionary.\n",
    "\"\"\"set_dict = dict({\"Pranav\",\"Ghadge\"}:1111,{\"Rohit\",\"Chavan\"}:111,{\"Maddy\",\"sk\"}:11)\n",
    "\n",
    "# Sets cannot be used as dictionary keys because they are mutable and unhashable\n",
    "# thats why we need to use frozenset\"\"\"\n",
    "d = {\n",
    "    frozenset({\"Pranav\",\"Ghadge\"}): 1111,\n",
    "    frozenset({\"Rohit\",\"Chavan\"}): 111,\n",
    "    frozenset({\"Maddy\",\"sk\"}): 11\n",
    "}\n",
    "print(d)"
   ]
  },
  {
   "cell_type": "code",
   "execution_count": 25,
   "id": "72f40fe7",
   "metadata": {},
   "outputs": [
    {
     "name": "stdout",
     "output_type": "stream",
     "text": [
      "64\n",
      "1\n",
      "4\n",
      "36\n",
      "100\n",
      "9\n",
      "16\n",
      "49\n",
      "81\n",
      "25\n"
     ]
    }
   ],
   "source": [
    "# Create a set and iterate over the elements, printing each element.\n",
    "\"\"\"set_4 = set([i**2 for i in range(1,11)])\n",
    "print(set_4,type(set_4))\"\"\"\n",
    "for i in set_4:\n",
    "    print(i)\n"
   ]
  },
  {
   "cell_type": "code",
   "execution_count": null,
   "id": "c4243623",
   "metadata": {},
   "outputs": [
    {
     "name": "stdout",
     "output_type": "stream",
     "text": [
      "1\n",
      "2\n",
      "3\n",
      "4\n",
      "5\n",
      "6\n",
      "7\n",
      "8\n",
      "9\n",
      "10\n"
     ]
    }
   ],
   "source": [
    "# Create a set and remove elements from it until it is empty. Print the set after each removal.\n",
    "rem_set = {1,2,3,4,5,6,7,8,9,10}\n",
    "\n",
    "while len(rem_set) > 0:\n",
    "    rem_pop = rem_set.pop()\n",
    "    print(rem_pop)\n"
   ]
  },
  {
   "cell_type": "code",
   "execution_count": 34,
   "id": "5271f1c4",
   "metadata": {},
   "outputs": [
    {
     "name": "stdout",
     "output_type": "stream",
     "text": [
      "{4, 5}\n"
     ]
    }
   ],
   "source": [
    "# Create two sets and update the first set with the symmetric difference of the two sets. Print the modified first set.\n",
    "set_8 = {1,2,3,4,5}\n",
    "set_9 = {1,2,3}\n",
    "set_8.symmetric_difference_update(set_9)\n",
    "print(set_8)"
   ]
  },
  {
   "cell_type": "code",
   "execution_count": 39,
   "id": "2c673f8a",
   "metadata": {},
   "outputs": [
    {
     "name": "stdout",
     "output_type": "stream",
     "text": [
      "True\n",
      "False\n"
     ]
    }
   ],
   "source": [
    "# Create a set and test if certain elements are present in the set. Print the results.\n",
    "set_10 = {3,2,1}\n",
    "print(3 in set_10)\n",
    "print(0 in set_10)"
   ]
  },
  {
   "cell_type": "code",
   "execution_count": 40,
   "metadata": {},
   "outputs": [
    {
     "name": "stdout",
     "output_type": "stream",
     "text": [
      "{(9, 10), (1, 2), (3, 4), (5, 6), (7, 8)}\n"
     ]
    }
   ],
   "source": [
    "# Create a set containing tuples, where each tuple contains two elements. Print the set.\n",
    "set_11 = {(1,2),(3,4),(5,6),(7,8),(9,10)}\n",
    "print(set_11)"
   ]
  },
  {
   "cell_type": "code",
   "execution_count": null,
   "id": "ef215f80",
   "metadata": {},
   "outputs": [],
   "source": []
  }
 ],
 "metadata": {
  "kernelspec": {
   "display_name": "venv",
   "language": "python",
   "name": "python3"
  },
  "language_info": {
   "codemirror_mode": {
    "name": "ipython",
    "version": 3
   },
   "file_extension": ".py",
   "mimetype": "text/x-python",
   "name": "python",
   "nbconvert_exporter": "python",
   "pygments_lexer": "ipython3",
   "version": "3.12.4"
  }
 },
 "nbformat": 4,
 "nbformat_minor": 5
}
